{
  "nbformat": 4,
  "nbformat_minor": 0,
  "metadata": {
    "colab": {
      "name": "visualize_runtime.ipynb",
      "provenance": [],
      "include_colab_link": true
    },
    "kernelspec": {
      "name": "python3",
      "display_name": "Python 3"
    }
  },
  "cells": [
    {
      "cell_type": "markdown",
      "metadata": {
        "id": "view-in-github",
        "colab_type": "text"
      },
      "source": [
        "<a href=\"https://colab.research.google.com/github/ehsk/CHF-TopoResolver/blob/master/scripts/vis/visualize_runtime.ipynb\" target=\"_parent\"><img src=\"https://colab.research.google.com/assets/colab-badge.svg\" alt=\"Open In Colab\"/></a>"
      ]
    },
    {
      "cell_type": "markdown",
      "metadata": {
        "id": "OqSKCWoP6yc2",
        "colab_type": "text"
      },
      "source": [
        "## Runtime plots\n",
        "\n"
      ]
    },
    {
      "cell_type": "code",
      "metadata": {
        "id": "p6OrrqBp6t-S",
        "colab_type": "code",
        "colab": {}
      },
      "source": [
        "from dataclasses import dataclass\n",
        "\n",
        "import pandas as pd\n",
        "import seaborn as sns\n",
        "\n",
        "SQUAD_DEV_SIZE = 10570\n",
        "\n",
        "@dataclass\n",
        "class RunInfo:\n",
        "    retrieval_topK: int\n",
        "    ir_duration: float\n",
        "    rerank_duration: float\n",
        "    mrc_duration: float\n",
        "    em: float\n",
        "    f1: float"
      ],
      "execution_count": 0,
      "outputs": []
    },
    {
      "cell_type": "markdown",
      "metadata": {
        "id": "FEd_Pzih7IgJ",
        "colab_type": "text"
      },
      "source": [
        "Here are the runtime information and their corresponding EM and F1 metrics:"
      ]
    },
    {
      "cell_type": "code",
      "metadata": {
        "id": "Tip1zsf87DvR",
        "colab_type": "code",
        "colab": {}
      },
      "source": [
        "run_info_list = [RunInfo(1, 0.0, 0.0, 1489.23, 22.59224, 28.37156), \n",
        "                 RunInfo(2, 0.0, 0.0, 2624.26, 26.77389, 32.79057), \n",
        "                 RunInfo(3, 0.0, 0.0, 3722.86, 28.13623, 34.29312), \n",
        "                 RunInfo(4, 0.0, 0.0, 0., 0., 0.), \n",
        "                 RunInfo(5, 0.0, 0.0, 0.00, 28.13623, 34.29312),\n",
        "                 RunInfo(6, 0.0, 0.0, 0., 0., 0.),\n",
        "                 RunInfo(7, 0.0, 0.0, 0., 0., 0.),\n",
        "                 RunInfo(8, 0.0, 0.0, 0., 0., 0.),\n",
        "                 RunInfo(9, 0.0, 0.0, 0., 0., 0.),\n",
        "                 RunInfo(10, 0.0, 0.0, 0.00, 30.01892, 36.20338), \n",
        "                 RunInfo(20, 0.0, 0.0, 0.00, 29.56481, 35.61424), \n",
        "                 RunInfo(30, 0.0, 0.0, 0.00, 28.95931, 34.96697), \n",
        "                 RunInfo(50, 0.0, 0.0, 83145.26, 28.13623, 33.91610),]"
      ],
      "execution_count": 0,
      "outputs": []
    },
    {
      "cell_type": "code",
      "metadata": {
        "id": "bQZpPHZ57Pm-",
        "colab_type": "code",
        "colab": {}
      },
      "source": [
        "pd.DataFrame"
      ],
      "execution_count": 0,
      "outputs": []
    }
  ]
}